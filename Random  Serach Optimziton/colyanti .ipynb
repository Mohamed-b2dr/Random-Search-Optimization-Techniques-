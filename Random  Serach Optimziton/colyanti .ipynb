{
 "cells": [
  {
   "cell_type": "code",
   "execution_count": 81,
   "metadata": {},
   "outputs": [],
   "source": [
    "import numpy as np\n",
    "import csv\n",
    "import random\n",
    "import copy\n",
    "import warnings\n",
    "warnings.filterwarnings(\"ignore\")"
   ]
  },
  {
   "cell_type": "code",
   "execution_count": 82,
   "metadata": {},
   "outputs": [],
   "source": [
    "class gene():\n",
    "    def __init__(self,name, data):\n",
    "        self.name = name\n",
    "        self.data = data\n",
    "    def __repr__(self):\n",
    "        return f\"point:{self.name}\"\n",
    "    \n",
    "    def __eq__(self, other):\n",
    "        return self.name == other.name"
   ]
  },
  {
   "cell_type": "code",
   "execution_count": 83,
   "metadata": {},
   "outputs": [],
   "source": [
    "class Chromosome():\n",
    "    def __init__(self, list_genes):\n",
    "        self.fitness = 0 \n",
    "        self.cost = 0 \n",
    "        self.list_genes = list_genes \n",
    "    def __repr__(self):\n",
    "        return f'{self.list_genes} cost: {self.cost} fitness:{self.fitness}'"
   ]
  },
  {
   "cell_type": "code",
   "execution_count": 84,
   "metadata": {},
   "outputs": [],
   "source": [
    "def create_data(path):\n",
    "    lst = []\n",
    "    with open(path, 'r') as f:\n",
    "            lines = list(csv.DictReader(f))\n",
    "    for line in lines:\n",
    "            lst.append(gene(line['City'], [line['x'], line ['y']]))\n",
    "    return lst"
   ]
  },
  {
   "cell_type": "code",
   "execution_count": 85,
   "metadata": {},
   "outputs": [],
   "source": [
    "def distance(povit, point):\n",
    "    povit = np.array(povit, dtype= float)\n",
    "    point = np.array(point, dtype= float)\n",
    "    dist =np.sum((point - povit)**2)**0.5\n",
    "    return dist"
   ]
  },
  {
   "cell_type": "code",
   "execution_count": 86,
   "metadata": {},
   "outputs": [],
   "source": [
    "def Matrix_distance(intinal_chromosome):\n",
    "    distance_matrix = np.zeros((len(intinal_chromosome), len(intinal_chromosome)))\n",
    "    for i in range(len(intinal_chromosome)):\n",
    "        for j in range(len(intinal_chromosome)):\n",
    "            if i != j:\n",
    "                distance_matrix[i,j] = distance(intinal_chromosome[i].data,intinal_chromosome[j].data)\n",
    "    return distance_matrix"
   ]
  },
  {
   "cell_type": "code",
   "execution_count": 87,
   "metadata": {},
   "outputs": [],
   "source": [
    "def cost_chromosome(chromosome, distance_matrix):\n",
    "    total_distance = 0\n",
    "    for i in range(len(chromosome.list_genes)-1):\n",
    "        city1 = chromosome.list_genes[i]\n",
    "        city2 = chromosome.list_genes[i+1]\n",
    "        total_distance += distance_matrix[int(city1.name)-1, int(city2.name)-1]\n",
    "    return total_distance +distance(chromosome.list_genes[-1].data,chromosome.list_genes[0].data)"
   ]
  },
  {
   "cell_type": "code",
   "execution_count": 89,
   "metadata": {},
   "outputs": [],
   "source": [
    "def create_population(num,distance_matrix):\n",
    "    lst = create_data('15-Points.csv')\n",
    "    population = []\n",
    "    for i in range(num):\n",
    "        c = Chromosome(list(np.random.permutation(lst)))\n",
    "        # return to the start city again\n",
    "        c.cost = cost_chromosome(c, distance_matrix)\n",
    "        c.fitness = 1/c.cost \n",
    "        population.append(c)\n",
    "\n",
    "    return population"
   ]
  },
  {
   "cell_type": "code",
   "execution_count": 90,
   "metadata": {},
   "outputs": [],
   "source": [
    "def compersion(solution1, solution2):\n",
    "    if solution1.cost < solution2.cost:\n",
    "        return solution1\n",
    "    else:\n",
    "        return solution2\n"
   ]
  },
  {
   "cell_type": "code",
   "execution_count": 91,
   "metadata": {},
   "outputs": [],
   "source": [
    "def formon_matrix(oldformon, pop, lambd):\n",
    "    new_formon = copy.deepcopy(oldformon) * (1-lambd)\n",
    "    for Chromosome in pop:\n",
    "        ph_val = 1 / Chromosome.cost\n",
    "        for i in range(len(Chromosome.list_genes)-1):\n",
    "                c1 = int(Chromosome.list_genes[i].name) - 1\n",
    "                c2 = int(Chromosome.list_genes[i+1].name)- 1\n",
    "\n",
    "                new_formon[c1, c2] += ph_val        \n",
    "                new_formon[c2, c1] += ph_val\n",
    "\n",
    "    return new_formon"
   ]
  },
  {
   "cell_type": "code",
   "execution_count": 92,
   "metadata": {},
   "outputs": [],
   "source": [
    "def construction_solution(lst,new_formon,distance_matrix, alpha, beta, size):\n",
    "      new_gene =[]\n",
    "      while True:\n",
    "            k= random.choices(range(len(lst)))[0]\n",
    "            k = lst[k]\n",
    "            path = []\n",
    "            path.append(k)\n",
    "            unvisited_cities = [gene for gene in lst]\n",
    "            \n",
    "            \n",
    "            for j in range(len(lst)-1):\n",
    "                  probabilities=[]\n",
    "                  unvisited_cities.remove(k)\n",
    "                  for i in range(len(lst)):\n",
    "                        if  lst[i] in path:\n",
    "                              #print('control', i)\n",
    "                              continue\n",
    "                        probability = (((new_formon[int(k.name)-1,i])**alpha) * ((1/distance_matrix[int(k.name)-1,i])**beta))\n",
    "                        probabilities.append(probability)\n",
    "                      \n",
    "                  probabilities = np.array(probabilities) / np.sum(probabilities)\n",
    "                  #print(path)\n",
    "                  #print(dict_pop)\n",
    "                  \n",
    "                  #print(prop)\n",
    "                  next_city  = np.random.choice(list(unvisited_cities), p=probabilities)\n",
    "            \n",
    "                  path.append(next_city)\n",
    "                  k = next_city\n",
    "            ch = Chromosome(path)\n",
    "            new_gene.append(ch)\n",
    "            if len(new_gene) == size:\n",
    "                  return new_gene"
   ]
  },
  {
   "cell_type": "code",
   "execution_count": 93,
   "metadata": {},
   "outputs": [],
   "source": [
    "def sort_fitnesses(population):\n",
    "    population =sorted(population,key =lambda x:x.fitness, reverse= True)\n",
    "    return population"
   ]
  },
  {
   "cell_type": "code",
   "execution_count": 94,
   "metadata": {},
   "outputs": [],
   "source": [
    "def prepare_pop(population,distance_matrix):\n",
    "    new_gene = [] \n",
    "    for pop in population:\n",
    "        pop.cost = cost_chromosome(pop, distance_matrix)\n",
    "        pop.fitness = 1/pop.cost\n",
    "        #pop.list_genes.append(pop.list_genes[0])\n",
    "        new_gene.append(pop)\n",
    "\n",
    "    return sort_fitnesses(new_gene)"
   ]
  },
  {
   "cell_type": "code",
   "execution_count": 95,
   "metadata": {},
   "outputs": [
    {
     "name": "stdout",
     "output_type": "stream",
     "text": [
      "[point:5, point:7, point:3, point:12, point:14, point:10, point:8, point:6, point:4, point:11, point:1, point:13, point:2, point:15, point:9, point:5] cost: 284.3810904080331 fitness:0.0035164082062038265\n"
     ]
    }
   ],
   "source": [
    "if __name__ == \"__main__\":\n",
    "\n",
    "    size_pop = 100\n",
    "    alpha = 1\n",
    "    beta = 2\n",
    "    num_gene = 10\n",
    "    oldformon = np.zeros((15,15))+0.000000000001\n",
    "    lambd = 0.7\n",
    "\n",
    "    lst = create_data('15-Points.csv')\n",
    "    distance_matrix = Matrix_distance(lst)\n",
    "    population = create_population(size_pop,distance_matrix)\n",
    "    new_formon = formon_matrix(oldformon, population,lambd)\n",
    "    #print(new_formon)\n",
    "    best_one_for_all_generation=[]\n",
    "\n",
    "    for i in range (num_gene):   \n",
    "              population = construction_solution(lst,new_formon,distance_matrix, alpha, beta, size_pop)\n",
    "              population = prepare_pop(population,distance_matrix)\n",
    "              best_one_for_all_generation.append(population[0])\n",
    "              new_formon = formon_matrix(new_formon, population, lambd)\n",
    "\n",
    "    result = sort_fitnesses(best_one_for_all_generation)[0]\n",
    "    result.list_genes.append(result.list_genes[0])\n",
    "    print(result)"
   ]
  },
  {
   "cell_type": "code",
   "execution_count": 96,
   "metadata": {},
   "outputs": [],
   "source": [
    "import matplotlib.pyplot as plt\n",
    "from matplotlib.animation import FuncAnimation\n",
    "%matplotlib qt"
   ]
  },
  {
   "cell_type": "code",
   "execution_count": 97,
   "metadata": {},
   "outputs": [],
   "source": [
    "def plot_sol(solution):\n",
    "    x = []\n",
    "    y = []\n",
    "    names=[]\n",
    "    for gene in solution.list_genes:\n",
    "        x.append(float(gene.data[0]))\n",
    "        y.append(float(gene.data[1]))\n",
    "        names.append('point'+gene.name)\n",
    "    fig, ax = plt.subplots()\n",
    "    def animate(i):\n",
    "        ax.clear()\n",
    "        ax.plot(x[:i+1], y[:i+1], marker = 'o')\n",
    "    plt.plot(x, y, marker = 'o')\n",
    "    for i in range(len(x)):\n",
    "        plt.text(x[i]+0.1, y[i]+0.1, names[i], fontsize=10)\n",
    "    plt.title(f'Ant Colony algorithm Cost {result.cost}')\n",
    "    plt.show()"
   ]
  },
  {
   "cell_type": "code",
   "execution_count": 98,
   "metadata": {},
   "outputs": [],
   "source": [
    "plot_sol(result)"
   ]
  },
  {
   "cell_type": "code",
   "execution_count": 99,
   "metadata": {},
   "outputs": [],
   "source": [
    "x = []\n",
    "y = []\n",
    "names = []\n",
    "for gene in result.list_genes:\n",
    "        x.append(float(gene.data[0]))\n",
    "        y.append(float(gene.data[1]))\n",
    "        names.append('point'+gene.name)\n",
    "\n",
    "fig, ax = plt.subplots()\n",
    "\n",
    "def animate(i):\n",
    "    ax.clear()\n",
    "    ax.plot(x[:i+1], y[:i+1], marker = 'o')\n",
    "    plt.text(x[i]+0.1, y[i]+0.1, names[i], fontsize=10)\n",
    "    plt.title(f'Ant Colony algorithm Cost {result.cost}')\n",
    "\n",
    "    plt.ylim(-50, 30)\n",
    "    plt.xlim(-90, 10)\n",
    "\n",
    "ani = FuncAnimation(fig, animate, frames=20, interval=300, repeat=False)\n",
    "plt.show()"
   ]
  },
  {
   "cell_type": "code",
   "execution_count": null,
   "metadata": {},
   "outputs": [],
   "source": []
  }
 ],
 "metadata": {
  "kernelspec": {
   "display_name": "base",
   "language": "python",
   "name": "python3"
  },
  "language_info": {
   "codemirror_mode": {
    "name": "ipython",
    "version": 3
   },
   "file_extension": ".py",
   "mimetype": "text/x-python",
   "name": "python",
   "nbconvert_exporter": "python",
   "pygments_lexer": "ipython3",
   "version": "3.9.13"
  },
  "orig_nbformat": 4
 },
 "nbformat": 4,
 "nbformat_minor": 2
}
