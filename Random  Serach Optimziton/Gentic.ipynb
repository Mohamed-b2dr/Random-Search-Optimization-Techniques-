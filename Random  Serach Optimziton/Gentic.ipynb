{
 "cells": [
  {
   "cell_type": "code",
   "execution_count": 275,
   "id": "d96fd9c9",
   "metadata": {},
   "outputs": [],
   "source": [
    "import numpy as np\n",
    "import csv\n",
    "import random\n",
    "import copy"
   ]
  },
  {
   "cell_type": "code",
   "execution_count": 276,
   "id": "5c12687d",
   "metadata": {},
   "outputs": [],
   "source": [
    "class gene():\n",
    "    def __init__(self,name, data):\n",
    "        self.name = name\n",
    "        self.data = data\n",
    "    def __repr__(self):\n",
    "        return f\"point:{self.name}\"\n",
    "    \n",
    "    def __eq__(self,other):\n",
    "        if self.name == other.name:\n",
    "            return True\n",
    "        else:\n",
    "            return False"
   ]
  },
  {
   "cell_type": "code",
   "execution_count": 277,
   "id": "00333679",
   "metadata": {},
   "outputs": [],
   "source": [
    "class Chromosome():\n",
    "    def __init__(self, list_genes):\n",
    "        self.fitness = 0 \n",
    "        self.cost = 0 \n",
    "        self.list_genes = list_genes \n",
    "    def __repr__(self):\n",
    "        return f'{self.list_genes} cost: {self.cost} fitness:{self.fitness}'\n",
    "        "
   ]
  },
  {
   "cell_type": "code",
   "execution_count": 278,
   "id": "9c613037",
   "metadata": {},
   "outputs": [],
   "source": [
    "def create_data(path):\n",
    "    lst = []\n",
    "    with open(path, 'r') as f:\n",
    "            lines = list(csv.DictReader(f))\n",
    "    for line in lines:\n",
    "            lst.append(gene(line['City'], [line['x'], line ['y']]))\n",
    "    return lst"
   ]
  },
  {
   "cell_type": "code",
   "execution_count": 279,
   "id": "63501e37",
   "metadata": {},
   "outputs": [],
   "source": [
    "def distance(povit, point):\n",
    "    povit = np.array(povit, dtype= float)\n",
    "    point = np.array(point, dtype= float)\n",
    "    dist =np.sum((point - povit)**2)**0.5\n",
    "    return dist"
   ]
  },
  {
   "cell_type": "code",
   "execution_count": 280,
   "id": "bc5d186c",
   "metadata": {},
   "outputs": [],
   "source": [
    "def Matrix_distance(intinal_chromosome):\n",
    "    distance_matrix = np.zeros((len(intinal_chromosome), len(intinal_chromosome)))\n",
    "    for i in range(len(intinal_chromosome)):\n",
    "        for j in range(len(intinal_chromosome)):\n",
    "            if i != j:\n",
    "                distance_matrix[i,j] = distance(intinal_chromosome[i].data,intinal_chromosome[j].data)\n",
    "    return distance_matrix"
   ]
  },
  {
   "cell_type": "code",
   "execution_count": 281,
   "id": "7591054b",
   "metadata": {},
   "outputs": [],
   "source": [
    "def cost_chromosome(chromosome, distance_matrix):\n",
    "    total_distance = 0\n",
    "    for i in range(len(chromosome.list_genes)-1):\n",
    "        city1 = chromosome.list_genes[i]\n",
    "        city2 = chromosome.list_genes[i+1]\n",
    "        total_distance += distance_matrix[int(city1.name)-1, int(city2.name)-1]\n",
    "    return total_distance +distance(chromosome.list_genes[-1].data,chromosome.list_genes[0].data)"
   ]
  },
  {
   "cell_type": "code",
   "execution_count": 282,
   "id": "4516b7a7",
   "metadata": {},
   "outputs": [],
   "source": [
    "def create_population(num,distance_matrix):\n",
    "    lst = create_data('15-Points.csv')\n",
    "    population = []\n",
    "    for i in range(num):\n",
    "        c = Chromosome(list(np.random.permutation(lst)))\n",
    "        # return to the start city again\n",
    "        c.cost = cost_chromosome(c, distance_matrix)\n",
    "        c.fitness = 1/c.cost \n",
    "        population.append(c)\n",
    "\n",
    "    return population"
   ]
  },
  {
   "cell_type": "code",
   "execution_count": 283,
   "id": "0d12731f",
   "metadata": {},
   "outputs": [],
   "source": [
    "def Fitness(chromosome, distance_matrix):\n",
    "    return 1/cost_chromosome(chromosome, distance_matrix)"
   ]
  },
  {
   "cell_type": "code",
   "execution_count": 284,
   "id": "aab6a692",
   "metadata": {},
   "outputs": [],
   "source": [
    "def sort_fitnesses(population):\n",
    "    population =sorted(population,key =lambda x:x.fitness, reverse= True)\n",
    "    return population"
   ]
  },
  {
   "cell_type": "code",
   "execution_count": 285,
   "id": "1dfdbc78",
   "metadata": {},
   "outputs": [],
   "source": [
    "def random_chromosomes(population, num):\n",
    "    return random.choices(population, k=num)"
   ]
  },
  {
   "cell_type": "code",
   "execution_count": 286,
   "id": "d9a0c5f8",
   "metadata": {},
   "outputs": [],
   "source": [
    "def selection(chromosomes):\n",
    "    chromosomes = sorted(chromosomes, key= lambda x:x.fitness, reverse= True)\n",
    "    return chromosomes[0]"
   ]
  },
  {
   "cell_type": "code",
   "execution_count": 287,
   "id": "bf7746f4",
   "metadata": {},
   "outputs": [],
   "source": [
    "def PMC_crossover(parent1, parent2,distance_matrix):\n",
    "    crossover_point = random.choices(range(len(parent1.list_genes)), k=2)\n",
    "    child1 = Chromosome(copy.deepcopy(parent1.list_genes))\n",
    "    child2 = Chromosome(copy.deepcopy(parent2.list_genes))\n",
    "    #print(child1)\n",
    "    for i in range(min(crossover_point), max(crossover_point)):\n",
    "        temp1 = parent2.list_genes[i]\n",
    "        temp2 = parent1.list_genes[i]\n",
    "      \n",
    "        indx1 = child1.list_genes.index(temp1)\n",
    "        child1.list_genes[indx1] = child1.list_genes[i]\n",
    "   \n",
    "        indx2 = child2.list_genes.index(temp2)\n",
    "        child2.list_genes[indx2] = child2.list_genes[i]\n",
    "        \n",
    "        child1.list_genes[i] = temp1\n",
    "        child2.list_genes[i] = temp2\n",
    "       \n",
    "    child1.cost = cost_chromosome(child1, distance_matrix)\n",
    "    child2.cost = cost_chromosome(child2, distance_matrix)\n",
    "\n",
    "    child1.fitness = 1/child1.cost\n",
    "    child2.fitness = 1/child2.cost\n",
    "    #print(child1)\n",
    "    return child1, child2"
   ]
  },
  {
   "cell_type": "code",
   "execution_count": 288,
   "id": "a17bdd26",
   "metadata": {},
   "outputs": [],
   "source": [
    "def crossover(probability, oldpop, newpop,distance_matrix):\n",
    "    num = int(len(oldpop)*probability)\n",
    "    while True:\n",
    "        some_chromosomes  = random_chromosomes(oldpop, num)\n",
    "        parent1 = selection(some_chromosomes)\n",
    "        #to certain that parent2 not the same parent1\n",
    "        some_chromosomes2  = random_chromosomes(oldpop, num)\n",
    "        parent2 = selection(some_chromosomes2)\n",
    "      \n",
    "        child1,child2 = PMC_crossover(parent1, parent2,distance_matrix)\n",
    "        #print(child1)\n",
    "     \n",
    "        newpop.append(child1)\n",
    "        newpop.append(child2)\n",
    "       \n",
    "        if len(newpop) == len(oldpop):\n",
    "            return newpop"
   ]
  },
  {
   "cell_type": "code",
   "execution_count": 289,
   "id": "2e269627",
   "metadata": {},
   "outputs": [],
   "source": [
    "def mutation(probability,newpop, num_elite,distance_matrix):\n",
    "    num = int(len(newpop)*probability)\n",
    "    for mut in range(num):\n",
    "        ch=  random.choices(range(num_elite,len(newpop)))[0]\n",
    "        j =  random.choices(range(len(newpop[0].list_genes)), k=2)\n",
    "        max_i = max(j)\n",
    "        for i in range(min(j),  max(j)):\n",
    "                newpop[ch].list_genes[max_i],  newpop[ch].list_genes[i] =  newpop[ch].list_genes[i], newpop[ch].list_genes[max_i]\n",
    "                max_i-=1\n",
    "        \n",
    "        newpop[ch].cost = cost_chromosome(newpop[ch], distance_matrix)\n",
    "        newpop[ch].fitness = 1/newpop[ch].cost\n",
    "       \n",
    "    return newpop"
   ]
  },
  {
   "cell_type": "code",
   "execution_count": 290,
   "id": "e2c94184",
   "metadata": {},
   "outputs": [],
   "source": [
    "def Gene_Algo(oldpop, num_elite, probility_mution, probability_crossover, distance_matrix):\n",
    "        newpop = []\n",
    " \n",
    "        elites = sort_fitnesses(oldpop)\n",
    "        newpop.extend(elites[:num_elite])\n",
    "\n",
    "        newpop = crossover(probability_crossover, oldpop, newpop,distance_matrix)\n",
    "        #newpop = mutation(probility_mution,newpop, num_elite,distance_matrix)\n",
    "        newpop =  mutation(probility_mution, newpop, num_elite,distance_matrix)\n",
    "       \n",
    "        return newpop"
   ]
  },
  {
   "cell_type": "code",
   "execution_count": 291,
   "id": "c031944d",
   "metadata": {},
   "outputs": [
    {
     "name": "stdout",
     "output_type": "stream",
     "text": [
      "284.3810904080332\n",
      "[point:13, point:2, point:15, point:9, point:5, point:7, point:3, point:12, point:14, point:10, point:8, point:6, point:4, point:11, point:1, point:13] cost: 284.3810904080332 fitness:0.003516408206203826\n"
     ]
    }
   ],
   "source": [
    "if __name__ == \"__main__\":\n",
    "    probility_mution = 0.6\n",
    "    probability_crossover = 0.8\n",
    "    num_pop = 400\n",
    "    num_elite = 4\n",
    "    num_gene = 100\n",
    "    lst = create_data('15-Points.csv')\n",
    "    distance_matrix = Matrix_distance(lst)\n",
    "    population = create_population(num_pop,distance_matrix)\n",
    "    for i in range (num_gene):   \n",
    "              population = Gene_Algo(population, num_elite, probility_mution, probability_crossover, distance_matrix)\n",
    "              population = sort_fitnesses(population)\n",
    "              #print(population[0])\n",
    "              #print(cost_chromosome(population[0], distance_matrix))\n",
    "    result = sort_fitnesses(population)[0]\n",
    "    print(cost_chromosome(result, distance_matrix))\n",
    "    result.list_genes.append(result.list_genes[0])\n",
    "    print(result)\n",
    "    "
   ]
  },
  {
   "cell_type": "code",
   "execution_count": 292,
   "id": "4aeee3f5",
   "metadata": {},
   "outputs": [],
   "source": [
    "import matplotlib.pyplot as plt\n",
    "from matplotlib.animation import FuncAnimation\n",
    "%matplotlib qt"
   ]
  },
  {
   "cell_type": "code",
   "execution_count": 293,
   "id": "f909c739",
   "metadata": {},
   "outputs": [],
   "source": [
    "def plot_sol(solution):\n",
    "    x = []\n",
    "    y = []\n",
    "    names=[]\n",
    "    for gene in solution.list_genes:\n",
    "        x.append(float(gene.data[0]))\n",
    "        y.append(float(gene.data[1]))\n",
    "        names.append('point'+gene.name)\n",
    "    fig, ax = plt.subplots()\n",
    "    def animate(i):\n",
    "        ax.clear()\n",
    "        ax.plot(x[:i+1], y[:i+1], marker = 'o')\n",
    "    plt.plot(x, y, marker = 'o')\n",
    "    for i in range(len(x)):\n",
    "        plt.text(x[i]+0.1, y[i]+0.1, names[i], fontsize=10)\n",
    "    plt.title(f'Genetic Algorithm Cost {result.cost}')\n",
    "    plt.show()"
   ]
  },
  {
   "cell_type": "code",
   "execution_count": 189,
   "id": "5cd790e2",
   "metadata": {},
   "outputs": [],
   "source": []
  },
  {
   "cell_type": "code",
   "execution_count": 294,
   "id": "9d441fb1",
   "metadata": {},
   "outputs": [],
   "source": [
    "plot_sol(result)"
   ]
  },
  {
   "cell_type": "code",
   "execution_count": 295,
   "id": "4c27f42c",
   "metadata": {},
   "outputs": [],
   "source": [
    "x = []\n",
    "y = []\n",
    "names = []\n",
    "for gene in result.list_genes:\n",
    "        x.append(float(gene.data[0]))\n",
    "        y.append(float(gene.data[1]))\n",
    "        names.append('point'+gene.name)\n",
    "\n",
    "fig, ax = plt.subplots()\n",
    "\n",
    "def animate(i):\n",
    "    ax.clear()\n",
    "    ax.plot(x[:i+1], y[:i+1], marker = 'o')\n",
    "    plt.text(x[i]+0.1, y[i]+0.1, names[i], fontsize=10)\n",
    "    plt.title(f'Genetic Algorithm Cost {result.cost}')\n",
    "\n",
    "    plt.ylim(-50, 30)\n",
    "    plt.xlim(-90, 10)\n",
    "\n",
    "ani = FuncAnimation(fig, animate, frames=20, interval=300, repeat=False)\n",
    "plt.show()"
   ]
  },
  {
   "cell_type": "code",
   "execution_count": null,
   "id": "36d84935",
   "metadata": {},
   "outputs": [],
   "source": []
  },
  {
   "cell_type": "code",
   "execution_count": null,
   "id": "f8010ec4",
   "metadata": {},
   "outputs": [],
   "source": []
  },
  {
   "cell_type": "code",
   "execution_count": null,
   "id": "d1fb14cd",
   "metadata": {},
   "outputs": [],
   "source": []
  },
  {
   "cell_type": "code",
   "execution_count": null,
   "id": "2e9ab237",
   "metadata": {},
   "outputs": [],
   "source": []
  },
  {
   "cell_type": "code",
   "execution_count": null,
   "id": "4c634b7e",
   "metadata": {},
   "outputs": [],
   "source": []
  },
  {
   "cell_type": "code",
   "execution_count": null,
   "id": "c747ac2f",
   "metadata": {},
   "outputs": [],
   "source": []
  },
  {
   "cell_type": "code",
   "execution_count": null,
   "id": "0e53355a",
   "metadata": {},
   "outputs": [],
   "source": []
  },
  {
   "cell_type": "code",
   "execution_count": null,
   "id": "0118417f",
   "metadata": {},
   "outputs": [],
   "source": []
  },
  {
   "cell_type": "code",
   "execution_count": null,
   "id": "ed6e4dca",
   "metadata": {},
   "outputs": [],
   "source": []
  },
  {
   "cell_type": "code",
   "execution_count": null,
   "id": "b7fc8e0e",
   "metadata": {},
   "outputs": [],
   "source": []
  },
  {
   "cell_type": "code",
   "execution_count": null,
   "id": "83a6ad86",
   "metadata": {},
   "outputs": [],
   "source": []
  },
  {
   "cell_type": "code",
   "execution_count": null,
   "id": "3e870345",
   "metadata": {},
   "outputs": [],
   "source": []
  },
  {
   "cell_type": "code",
   "execution_count": null,
   "id": "f23d8c58",
   "metadata": {},
   "outputs": [],
   "source": []
  },
  {
   "cell_type": "code",
   "execution_count": null,
   "id": "8632e2d5",
   "metadata": {},
   "outputs": [],
   "source": []
  },
  {
   "cell_type": "code",
   "execution_count": null,
   "id": "f43bcd8b",
   "metadata": {},
   "outputs": [],
   "source": []
  },
  {
   "cell_type": "code",
   "execution_count": null,
   "id": "b090f595",
   "metadata": {},
   "outputs": [],
   "source": [
    "\n"
   ]
  }
 ],
 "metadata": {
  "kernelspec": {
   "display_name": "Python 3 (ipykernel)",
   "language": "python",
   "name": "python3"
  },
  "language_info": {
   "codemirror_mode": {
    "name": "ipython",
    "version": 3
   },
   "file_extension": ".py",
   "mimetype": "text/x-python",
   "name": "python",
   "nbconvert_exporter": "python",
   "pygments_lexer": "ipython3",
   "version": "3.9.13"
  }
 },
 "nbformat": 4,
 "nbformat_minor": 5
}
