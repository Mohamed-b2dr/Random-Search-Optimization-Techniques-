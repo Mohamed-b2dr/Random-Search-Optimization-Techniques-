{
 "cells": [
  {
   "cell_type": "code",
   "execution_count": 62,
   "id": "5bc53cbc",
   "metadata": {},
   "outputs": [],
   "source": [
    "import numpy as np\n",
    "import csv"
   ]
  },
  {
   "cell_type": "code",
   "execution_count": 63,
   "id": "bba98e78",
   "metadata": {},
   "outputs": [],
   "source": [
    "class data_structure():\n",
    "    def __init__(self,name, data):\n",
    "        self.name = name\n",
    "        self.data = data\n",
    "    def __repr__(self):\n",
    "        return f\"point:{self.name}\""
   ]
  },
  {
   "cell_type": "code",
   "execution_count": 64,
   "id": "227beac0",
   "metadata": {},
   "outputs": [],
   "source": [
    "def distance(centroid, point):\n",
    "    centroid = np.array(centroid, dtype= float)\n",
    "    point = np.array(point, dtype= float)\n",
    "    dist =np.sum((point - centroid)**2)**0.5\n",
    "    return dist"
   ]
  },
  {
   "cell_type": "code",
   "execution_count": 65,
   "id": "2fc736a5",
   "metadata": {},
   "outputs": [],
   "source": [
    "def random_start_povit(sequence):\n",
    "    return np.random.choice(sequence)"
   ]
  },
  {
   "cell_type": "code",
   "execution_count": 66,
   "id": "3e016d3b",
   "metadata": {},
   "outputs": [],
   "source": [
    "def Nearset_povit(data, povit):\n",
    "    point = None\n",
    "    min_distinace = np.inf\n",
    "    for observation in data:\n",
    "        dist = distance(povit.data, observation.data)\n",
    "        if dist < min_distinace:\n",
    "            min_distinace = dist\n",
    "            point = observation\n",
    "    \n",
    "    return point, min_distinace"
   ]
  },
  {
   "cell_type": "code",
   "execution_count": 67,
   "id": "0404c0b4",
   "metadata": {},
   "outputs": [],
   "source": [
    "def Terminate(data_dict):\n",
    "    if len(data_dict) == 0:\n",
    "        return True\n",
    "    else:\n",
    "        return False"
   ]
  },
  {
   "cell_type": "code",
   "execution_count": 68,
   "id": "a7fb459d",
   "metadata": {},
   "outputs": [],
   "source": [
    "def create_data(path):\n",
    "    lst = []\n",
    "    with open(path, 'r') as f:\n",
    "            lines = list(csv.DictReader(f))\n",
    "    for line in lines:\n",
    "            view =data_structure(line['City'], [line['x'], line ['y']])\n",
    "            lst.append(data_structure(line['City'], [line['x'], line ['y']]))\n",
    "    return lst\n",
    "    "
   ]
  },
  {
   "cell_type": "code",
   "execution_count": 69,
   "id": "d85477e5",
   "metadata": {},
   "outputs": [],
   "source": [
    "if __name__ == \"__main__\":\n",
    "    data_dict = create_data('15-Points.csv')\n",
    "    total_cost = 0\n",
    "    solution = []\n",
    "    povit = data_dict[0]\n",
    "    frist_point = povit\n",
    "    solution.append(povit)\n",
    "    data_dict.remove(povit)\n",
    "    while True:\n",
    "        point, cost = Nearset_povit(data_dict, povit)\n",
    "        solution.append(point)\n",
    "        total_cost+= cost\n",
    "        data_dict.remove(point)\n",
    "        #print(povit)\n",
    "        #print(cost, point )\n",
    "        povit = point\n",
    "        \n",
    "        if Terminate(data_dict):\n",
    "            solution.append(frist_point)\n",
    "            total_cost += distance(frist_point.data, point.data)\n",
    "            break"
   ]
  },
  {
   "cell_type": "code",
   "execution_count": 70,
   "id": "98cd0f40",
   "metadata": {},
   "outputs": [],
   "source": [
    "import matplotlib.pyplot as plt\n",
    "from matplotlib.animation import FuncAnimation\n",
    "%matplotlib qt"
   ]
  },
  {
   "cell_type": "code",
   "execution_count": 71,
   "id": "206e1266",
   "metadata": {},
   "outputs": [],
   "source": [
    "def plot_sol(solution):\n",
    "    x = []\n",
    "    y = []\n",
    "    names=[]\n",
    "    for gene in solution:\n",
    "        x.append(float(gene.data[0]))\n",
    "        y.append(float(gene.data[1]))\n",
    "        names.append('point'+gene.name)\n",
    "    fig, ax = plt.subplots()\n",
    "    def animate(i):\n",
    "        ax.clear()\n",
    "        ax.plot(x[:i+1], y[:i+1], marker = 'o')\n",
    "    plt.plot(x, y, marker = 'o')\n",
    "    for i in range(len(x)):\n",
    "        plt.text(x[i]+0.1, y[i]+0.1, names[i], fontsize=10)\n",
    "    plt.title(f'Nearest Neighbor algorithm Cost {total_cost}')\n",
    "    plt.show()"
   ]
  },
  {
   "cell_type": "code",
   "execution_count": 72,
   "id": "3e58ce49",
   "metadata": {},
   "outputs": [],
   "source": [
    "plot_sol(solution)"
   ]
  },
  {
   "cell_type": "code",
   "execution_count": 73,
   "id": "04c6da90",
   "metadata": {},
   "outputs": [],
   "source": [
    "x = []\n",
    "y = []\n",
    "names = []\n",
    "for gene in solution:\n",
    "        x.append(float(gene.data[0]))\n",
    "        y.append(float(gene.data[1]))\n",
    "        names.append('point'+gene.name)\n",
    "\n",
    "fig, ax = plt.subplots()\n",
    "\n",
    "def animate(i):\n",
    "    ax.clear()\n",
    "    ax.plot(x[:i+1], y[:i+1], marker = 'o')\n",
    "    plt.text(x[i]+0.1, y[i]+0.1, names[i], fontsize=10)\n",
    "    plt.title(f'Nearest Neighbor algorithm Cost {total_cost}')\n",
    "\n",
    "    plt.ylim(-50, 30)\n",
    "    plt.xlim(-90, 10)\n",
    "\n",
    "ani = FuncAnimation(fig, animate, frames=20, interval=300, repeat=False)\n",
    "plt.show()"
   ]
  },
  {
   "cell_type": "code",
   "execution_count": null,
   "id": "3c484759",
   "metadata": {},
   "outputs": [],
   "source": []
  },
  {
   "cell_type": "code",
   "execution_count": null,
   "id": "021e6450",
   "metadata": {},
   "outputs": [],
   "source": []
  }
 ],
 "metadata": {
  "kernelspec": {
   "display_name": "Python 3 (ipykernel)",
   "language": "python",
   "name": "python3"
  },
  "language_info": {
   "codemirror_mode": {
    "name": "ipython",
    "version": 3
   },
   "file_extension": ".py",
   "mimetype": "text/x-python",
   "name": "python",
   "nbconvert_exporter": "python",
   "pygments_lexer": "ipython3",
   "version": "3.9.13"
  }
 },
 "nbformat": 4,
 "nbformat_minor": 5
}
